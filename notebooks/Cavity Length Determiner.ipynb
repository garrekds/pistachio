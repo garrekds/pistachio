{
 "metadata": {
  "language_info": {
   "codemirror_mode": {
    "name": "ipython",
    "version": 3
   },
   "file_extension": ".py",
   "mimetype": "text/x-python",
   "name": "python",
   "nbconvert_exporter": "python",
   "pygments_lexer": "ipython3",
   "version": "3.8.5-final"
  },
  "orig_nbformat": 2,
  "kernelspec": {
   "name": "python3",
   "display_name": "Python 3"
  }
 },
 "nbformat": 4,
 "nbformat_minor": 2,
 "cells": [
  {
   "source": [
    "# Cavity Length Determiner\n",
    "\n",
    "Use this notebook to find peak positions in a spectrum and use the free spectral range, along with the known or calculated material refractive index, to determine the cavity length in vacuum. The *must* be done at 0-degree incidence."
   ],
   "cell_type": "markdown",
   "metadata": {}
  },
  {
   "cell_type": "code",
   "execution_count": null,
   "metadata": {},
   "outputs": [],
   "source": [
    "import ipywidgets as widgets\n",
    "import matplotlib.pyplot as plt\n",
    "import seaborn as sns\n",
    "import pandas as pd\n",
    "from scipy import signal\n",
    "from ruamel_yaml import YAML\n",
    "import data_io\n",
    "import material_properties as mp\n",
    "import pmath\n",
    "\n",
    "yaml = YAML()\n",
    "sns.set_theme(context='notebook', style='whitegrid', palette='dark')\n",
    "%matplotlib widget"
   ]
  },
  {
   "cell_type": "code",
   "execution_count": null,
   "metadata": {},
   "outputs": [],
   "source": [
    "data_directory = 'path/to/angle/resolved/data/directory/'\n",
    "angle_data, absorbance_data = data_io.get_angle_data_from_dir(data_directory)\n",
    "\n",
    "print('Loading data from:')\n",
    "print(data_directory, '\\n')\n",
    "print('Angles in range: [', angle_data[0][0], ',', angle_data[-1][0], ']')"
   ]
  },
  {
   "cell_type": "code",
   "execution_count": null,
   "metadata": {},
   "outputs": [],
   "source": [
    "angle, wavenumber, intensity = angle_data[0]\n",
    "\n",
    "lb = 500\n",
    "ub = 8000\n",
    "mask = (wavenumber >= lb) & (wavenumber <= ub)\n",
    "wavenumber = wavenumber[mask]\n",
    "intensity = intensity[mask]\n",
    "peaks_in_interval = signal.find_peaks(intensity, height=1.0, distance=500)[0]\n",
    "number_of_peaks = len(peaks_in_interval)\n",
    "peak_pos_x = [wavenumber[p] for p in peaks_in_interval]\n",
    "peak_pos_y = [intensity[p] for p in peaks_in_interval]\n",
    "peaks_data = pd.DataFrame({'Peaks': peak_pos_x})"
   ]
  },
  {
   "cell_type": "code",
   "execution_count": null,
   "metadata": {},
   "outputs": [],
   "source": [
    "# Plot the selected spectrum or a subrange\n",
    "fig, ax = plt.subplots()\n",
    "\n",
    "ax.plot(wavenumber, intensity)\n",
    "ax.scatter(peak_pos_x, peak_pos_y, color='orange')\n",
    "\n",
    "ax.set_title(\"Spectrum subrange at {} degrees\\n{} peaks\".format(angle, number_of_peaks))\n",
    "ax.set_xlabel(r'Wavenumber (cm$^{-1}$)')\n",
    "ax.set_ylabel('Transmittance (%)')\n",
    "plt.show()"
   ]
  },
  {
   "cell_type": "code",
   "execution_count": null,
   "metadata": {},
   "outputs": [],
   "source": [
    "# Check the peak spacing statistics.\n",
    "peaks_data.diff().describe()"
   ]
  },
  {
   "cell_type": "code",
   "execution_count": null,
   "metadata": {},
   "outputs": [],
   "source": [
    "concentration = sample['Concentration']\n",
    "solvent_refractive_index = 1.0 \n",
    "solute_refractive_index = 1.0\n",
    "n_eff = pmath.refractive_line(concentration, solvent_refractive_index, solute_refractive_index, 0.0, neat_solute_concentration)\n",
    "L_cav = float(10**4 / (2 * n_eff * peaks_data.diff().mean()))\n",
    "\n",
    "print('Concentration:', concentration, 'mol/L')\n",
    "print('Refractive index:', n_eff)\n",
    "print('Cavity length:', L_cav, 'micrometers')"
   ]
  }
 ]
}