{
 "cells": [
  {
   "cell_type": "markdown",
   "metadata": {},
   "source": [
    "# Asymmetric Peak Analysis &mdash; FTIR Experiment\n",
    "\n",
    "Author: Garrek Stemo \\\n",
    "Date created: August 31, 2020 \\\n",
    "Date updated: October 22, 2020 \\\n",
    "Affiliation: Nara Institute of Science and Technology\n",
    "\n",
    "This is an interactive notebook for analyzing relatively large sets of spectral data, specifically tuned for angle-resolved FTIR Fabry-Perot spectra. I initially created a command-line tool to do curve fitting and spectral analysis, but this was cumbersome because of the variability from data set to data set and the need to carefully truncate and set bounds on the data. Interactivity also makes it easier to try different fitting models. The notebook uses the lmfit package, which is a wrapper for SciPy's optimize method. It is much more user-friendly and customizable, making it well-adapted to an interactive programming scheme like this one. Lmfit comes with almost all of the fitting functions one might need to perform analysis, but I have included additional functions in a custom `pmath.py` module. The most important function here is the asymmetric Gaussian, Lorentzian, and Voigt functions. Asymmetric broadening of spectra occurs in a wide range of materials, including crystalline solids, nanoparticles, molecular solids, and liquids. The scheme used here to model asymmetries is described in [Korepanov and Sedlovets, 2018](https://arxiv.org/abs/1804.06083). I also wrote a bunch of functions to pull data from FTIR experiments and transfer matrix simulations in the `polariton_processing.py` module. These functions assume the files are named a certain way and are in a particular format, so check out that module for more detail or you can write your own."
   ]
  },
  {
   "cell_type": "markdown",
   "metadata": {},
   "source": [
    "## Setup\n",
    "\n",
    "We use the matplotlib widgets framework to generate interactive plots. Make sure you have the appropriate dependencies installed."
   ]
  },
  {
   "cell_type": "code",
   "execution_count": 1,
   "metadata": {},
   "outputs": [],
   "source": [
    "import matplotlib.pyplot as plt\n",
    "import ipywidgets as widgets\n",
    "import numpy as np\n",
    "from scipy import signal\n",
    "from scipy import optimize\n",
    "import time\n",
    "import lmfit as lm\n",
    "import polariton_processing as pp\n",
    "import pmath\n",
    "\n",
    "%matplotlib widget"
   ]
  },
  {
   "cell_type": "markdown",
   "metadata": {},
   "source": [
    "### Load Data\n",
    "\n",
    "Assign 'data_directory' the path to a directory containing your angle-resolved data. Each .csv data file must contain \"deg##.##_\" where the \"##.##\" is an angle, which could be an integer or not. The underscore is necessary, since the program uses this to extract the angle information from the file name. Then specify an output directory where you would like output data to go."
   ]
  },
  {
   "cell_type": "code",
   "execution_count": 74,
   "metadata": {},
   "outputs": [
    {
     "name": "stdout",
     "output_type": "stream",
     "text": [
      "-20.0\n",
      "-16.0\n",
      "-12.0\n",
      "-8.0\n",
      "-4.0\n",
      "0.0\n",
      "4.0\n",
      "8.0\n",
      "12.0\n",
      "16.0\n",
      "20.0\n",
      "22.0\n"
     ]
    }
   ],
   "source": [
    "dppa_cav = ''\n",
    "\n",
    "angle_data, absorbance_data = pp.get_angle_data_from_dir(dppa_cav)\n",
    "for d in angle_data:\n",
    "    print(d[0])"
   ]
  },
  {
   "cell_type": "markdown",
   "metadata": {},
   "source": [
    "## First Data Set"
   ]
  },
  {
   "cell_type": "markdown",
   "metadata": {},
   "source": [
    "### Visualization\n",
    "\n",
    "The spectra, either simulated or experimental, probably spans a large domain of frequencies. You can visualize the spectrum from whichever angle you want and pan / zoom around. After zooming around your data, you can truncate each data set to isolate the peaks you want to fit. This is a crucial step, since if there are other peaks in your data that you don't care about the fitting procedure will be disasterous."
   ]
  },
  {
   "cell_type": "code",
   "execution_count": 1,
   "metadata": {},
   "outputs": [
    {
     "ename": "NameError",
     "evalue": "name 'angle_data' is not defined",
     "output_type": "error",
     "traceback": [
      "\u001b[0;31m---------------------------------------------------------------------------\u001b[0m",
      "\u001b[0;31mNameError\u001b[0m                                 Traceback (most recent call last)",
      "\u001b[0;32m<ipython-input-1-6ee0bd741f5b>\u001b[0m in \u001b[0;36m<module>\u001b[0;34m\u001b[0m\n\u001b[1;32m      2\u001b[0m \u001b[0mlower_bound\u001b[0m \u001b[0;34m=\u001b[0m \u001b[0;36m100\u001b[0m\u001b[0;34m\u001b[0m\u001b[0;34m\u001b[0m\u001b[0m\n\u001b[1;32m      3\u001b[0m \u001b[0mupper_bound\u001b[0m \u001b[0;34m=\u001b[0m \u001b[0;36m8000\u001b[0m\u001b[0;34m\u001b[0m\u001b[0;34m\u001b[0m\u001b[0m\n\u001b[0;32m----> 4\u001b[0;31m \u001b[0mspectrum\u001b[0m \u001b[0;34m=\u001b[0m \u001b[0mangle_data\u001b[0m\u001b[0;34m[\u001b[0m\u001b[0;36m0\u001b[0m\u001b[0;34m]\u001b[0m\u001b[0;34m\u001b[0m\u001b[0;34m\u001b[0m\u001b[0m\n\u001b[0m\u001b[1;32m      5\u001b[0m \u001b[0mangle\u001b[0m\u001b[0;34m,\u001b[0m \u001b[0mwavenumber_O\u001b[0m\u001b[0;34m,\u001b[0m \u001b[0mtransmittance_O\u001b[0m \u001b[0;34m=\u001b[0m \u001b[0mspectrum\u001b[0m\u001b[0;34m\u001b[0m\u001b[0;34m\u001b[0m\u001b[0m\n\u001b[1;32m      6\u001b[0m \u001b[0mmask\u001b[0m \u001b[0;34m=\u001b[0m \u001b[0;34m(\u001b[0m\u001b[0mwavenumber_O\u001b[0m \u001b[0;34m>=\u001b[0m \u001b[0mlower_bound\u001b[0m\u001b[0;34m)\u001b[0m \u001b[0;34m&\u001b[0m \u001b[0;34m(\u001b[0m\u001b[0mwavenumber_O\u001b[0m \u001b[0;34m<=\u001b[0m \u001b[0mupper_bound\u001b[0m\u001b[0;34m)\u001b[0m\u001b[0;34m\u001b[0m\u001b[0;34m\u001b[0m\u001b[0m\n",
      "\u001b[0;31mNameError\u001b[0m: name 'angle_data' is not defined"
     ]
    }
   ],
   "source": [
    "# Choose which data point and subrange to examine\n",
    "lower_bound = 100\n",
    "upper_bound = 8000\n",
    "spectrum = angle_data[0]\n",
    "angle, wavenumber_O, transmittance_O = spectrum\n",
    "mask = (wavenumber_O >= lower_bound) & (wavenumber_O <= upper_bound)\n",
    "\n",
    "# Plot the selected spectrum or a subrange\n",
    "fig1, ax = plt.subplots()\n",
    "\n",
    "ax.plot(wavenumber_O[mask], transmittance_O[mask])\n",
    "# ax.set_xlim(lower_bound, upper_bound)\n",
    "\n",
    "ax.set_title(\"Spectrum subrange for {} degrees\".format(np.round(angle,2)))\n",
    "ax.set_xlabel(r'Wavenumber (cm$^{-1}$)')\n",
    "ax.set_ylabel('Transmittance %')\n",
    "plt.show()"
   ]
  },
  {
   "cell_type": "code",
   "execution_count": 50,
   "metadata": {},
   "outputs": [],
   "source": [
    "plt.close('all')"
   ]
  },
  {
   "cell_type": "markdown",
   "metadata": {},
   "source": [
    "### Define the Model and Parameters, Check Initial Fit\n",
    "\n",
    "Now test the fitting functions available in pmath.py to find the one you would like to use. The lmfit package has lots of built-in functions. You can use these, fitting functions in pmath, or your own. Perform the initial fit for this one data set and plot the results before fitting all data sets. You can decide if you need to adjust your initial guess or the model."
   ]
  },
  {
   "cell_type": "markdown",
   "metadata": {},
   "source": [
    "Set the model, make initial guesses for the fit parameters, and apply constraints."
   ]
  },
  {
   "cell_type": "code",
   "execution_count": 77,
   "metadata": {},
   "outputs": [
    {
     "name": "stdout",
     "output_type": "stream",
     "text": [
      "parameter names: ['l1_amplitude', 'l1_center', 'l1_sigma', 'l2_amplitude', 'l2_center', 'l2_sigma']\n",
      "independent variables: ['x']\n"
     ]
    }
   ],
   "source": [
    "omega = wavenumber_O[mask]\n",
    "y = transmittance_O[mask]\n",
    "\n",
    "model = lm.models.LorentzianModel(prefix='l1_') + lm.models.LorentzianModel(prefix='l2_')\n",
    "result = model.fit(y, x=omega, l1_amplitude=1.0, l1_center=1000, l1_sigma=10,\n",
    "                               l2_amplitude=1.0, l2_center=1000, l2_sigma=10)\n",
    "\n",
    "print('parameter names: {}'.format(model.param_names))\n",
    "print('independent variables: {}'.format(model.independent_vars))"
   ]
  },
  {
   "cell_type": "code",
   "execution_count": 78,
   "metadata": {},
   "outputs": [
    {
     "name": "stdout",
     "output_type": "stream",
     "text": [
      "Name             Value      Min      Max   Stderr     Vary     Expr Brute_Step\n",
      "l1_amplitude     1.282     -inf      inf    0.159     True     None     None\n",
      "l1_center         2152     -inf      inf   0.5347     True     None     None\n",
      "l1_fwhm          8.775     -inf      inf    1.528    False 2.0000000*l1_sigma     None\n",
      "l1_height      0.09303     -inf      inf  0.01134    False 0.3183099*l1_amplitude/max(2.220446049250313e-16, l1_sigma)     None\n",
      "l1_sigma         4.387        0      inf   0.7638     True     None     None\n",
      "l2_amplitude     43.41     -inf      inf   0.3239     True     None     None\n",
      "l2_center         2241     -inf      inf   0.1332     True     None     None\n",
      "l2_fwhm          36.37     -inf      inf   0.3835    False 2.0000000*l2_sigma     None\n",
      "l2_height         0.76     -inf      inf 0.005577    False 0.3183099*l2_amplitude/max(2.220446049250313e-16, l2_sigma)     None\n",
      "l2_sigma         18.18        0      inf   0.1917     True     None     None\n",
      "None\n"
     ]
    },
    {
     "data": {
      "application/vnd.jupyter.widget-view+json": {
       "model_id": "dd1f7ff7826841609658bb6f47ce399b",
       "version_major": 2,
       "version_minor": 0
      },
      "text/plain": [
       "Canvas(toolbar=Toolbar(toolitems=[('Home', 'Reset original view', 'home', 'home'), ('Back', 'Back to previous …"
      ]
     },
     "metadata": {},
     "output_type": "display_data"
    }
   ],
   "source": [
    "print(result.params.pretty_print())\n",
    "result.plot()\n",
    "plt.show()"
   ]
  },
  {
   "cell_type": "code",
   "execution_count": 79,
   "metadata": {},
   "outputs": [],
   "source": [
    "plt.close('all')"
   ]
  },
  {
   "cell_type": "markdown",
   "metadata": {},
   "source": [
    "## Automatically Fit Peaks From Multiple Data Sets\n",
    "\n",
    "Now that we have a good fit for the first peak, go through and fit the rest, using the results from this first spectrum as the initial guess for the next set, and so on.\n",
    "\n",
    "Afterwards, we should inspect the results to make sure the fitting procedure worked. It's not feasible to inspect *every* spectrum for large data sets (I won't stop you!), but you can sample a few and see what they look like by changing the `examine_spectrum` index and generating a plot that will show the actual data (blue dots), the best fit (red), and the initial fit (black dashed line). Since we use the previous best fit for the guess of the next data set, we are essentially plotting the best fit for the current data set alongside the best fit for the previous one."
   ]
  },
  {
   "cell_type": "markdown",
   "metadata": {},
   "source": [
    "### Define a fitting procedure"
   ]
  },
  {
   "cell_type": "code",
   "execution_count": 80,
   "metadata": {},
   "outputs": [],
   "source": [
    "def fit_sets(data_sets, model_func, guess, lbound, ubound):\n",
    "    \"\"\"\n",
    "    Fits all data according to a given model. Model and guess follow lmfit framework.\n",
    "    \"\"\"\n",
    "    guess = guess\n",
    "    results_list = []\n",
    "    xy_data = []\n",
    "    num_sets = len(data_sets)\n",
    "    for i in range(num_sets):\n",
    "        angle = data_sets[i][0]\n",
    "        x_data, y_data = pp.truncate(data_sets[i][1], data_sets[i][2], lbound, ubound)\n",
    "\n",
    "        result = model_func.fit(y_data, x=x_data,\n",
    "                                l1_amplitude=guess['l1_amplitude'], l1_center=guess['l1_center'], l1_sigma=guess['l1_sigma'],\n",
    "                                l2_amplitude=guess['l2_amplitude'], l2_center=guess['l2_center'], l2_sigma=guess['l2_sigma'])\n",
    "\n",
    "#         print(result.values['w_0'], guess['w_0'])\n",
    "\n",
    "        results_list.append(result)\n",
    "        xy_data.append((angle, x_data, y_data))\n",
    "        guess = result.values\n",
    "    return results_list, xy_data"
   ]
  },
  {
   "cell_type": "markdown",
   "metadata": {},
   "source": [
    "### Analyze all angle-resolved data"
   ]
  },
  {
   "cell_type": "code",
   "execution_count": 81,
   "metadata": {},
   "outputs": [],
   "source": [
    "omega = wavenumber_O[mask]\n",
    "y = transmittance_O[mask]\n",
    "sets_to_fit = angle_data #[0:len(angle_data) - 2]\n",
    "fit_lbound = 1000\n",
    "fit_ubound = 2000\n",
    "\n",
    "initial_result = model.fit(y, x=omega, l1_amplitude=1.0, l1_center=1000, l1_sigma=5.0,\n",
    "                               l2_amplitude=1.0, l2_center=1000, l2_sigma=5.0)\n",
    "\n",
    "set_results, set_xy = fit_sets(sets_to_fit, model, initial_result.values, fit_lbound, fit_ubound)"
   ]
  },
  {
   "cell_type": "markdown",
   "metadata": {},
   "source": [
    "### Examine and visualize results"
   ]
  },
  {
   "cell_type": "markdown",
   "metadata": {},
   "source": [
    "Change `examine_spectrum` to see a specific data set."
   ]
  },
  {
   "cell_type": "code",
   "execution_count": 83,
   "metadata": {},
   "outputs": [
    {
     "name": "stdout",
     "output_type": "stream",
     "text": [
      "Name             Value      Min      Max   Stderr     Vary     Expr Brute_Step\n",
      "l1_amplitude     1.286     -inf      inf   0.1551     True     None     None\n",
      "l1_center         2152     -inf      inf   0.5208     True     None     None\n",
      "l1_fwhm          8.803     -inf      inf    1.488    False 2.0000000*l1_sigma     None\n",
      "l1_height      0.09304     -inf      inf  0.01101    False 0.3183099*l1_amplitude/max(2.220446049250313e-16, l1_sigma)     None\n",
      "l1_sigma         4.401        0      inf   0.7441     True     None     None\n",
      "l2_amplitude     43.36     -inf      inf   0.3164     True     None     None\n",
      "l2_center         2241     -inf      inf   0.1297     True     None     None\n",
      "l2_fwhm          36.31     -inf      inf   0.3745    False 2.0000000*l2_sigma     None\n",
      "l2_height       0.7603     -inf      inf 0.005445    False 0.3183099*l2_amplitude/max(2.220446049250313e-16, l2_sigma)     None\n",
      "l2_sigma         18.15        0      inf   0.1873     True     None     None\n",
      "None\n"
     ]
    },
    {
     "data": {
      "application/vnd.jupyter.widget-view+json": {
       "model_id": "296fd73ed3eb4088852e0e47244f7cf8",
       "version_major": 2,
       "version_minor": 0
      },
      "text/plain": [
       "Canvas(toolbar=Toolbar(toolitems=[('Home', 'Reset original view', 'home', 'home'), ('Back', 'Back to previous …"
      ]
     },
     "metadata": {},
     "output_type": "display_data"
    }
   ],
   "source": [
    "examine_spectrum = 0\n",
    "result = set_results[examine_spectrum]\n",
    "print(result.params.pretty_print())\n",
    "\n",
    "angle, wavenumber, transmittance = set_xy[examine_spectrum]\n",
    "# mask = (wavenumber >= lower_bound) & (wavenumber <= upper_bound)\n",
    "\n",
    "fig3, ax = plt.subplots()\n",
    "\n",
    "ax.plot(wavenumber, transmittance, 'bo', markersize=3, label='raw data')\n",
    "ax.plot(wavenumber, result.init_fit, 'k--', label='initial fit')\n",
    "ax.plot(wavenumber, result.best_fit, 'r-', label='best fit')\n",
    "\n",
    "ax.set_title(\"Spectrum for {} degrees\".format(np.round(angle, 1)))\n",
    "plt.legend()\n",
    "plt.show()"
   ]
  },
  {
   "cell_type": "code",
   "execution_count": 98,
   "metadata": {},
   "outputs": [],
   "source": [
    "plt.close('all')"
   ]
  },
  {
   "cell_type": "markdown",
   "metadata": {},
   "source": [
    "## Dispersion Relation"
   ]
  },
  {
   "cell_type": "markdown",
   "metadata": {},
   "source": [
    "Now we plot the peak positions from the fitting procedure as a function of cavity angle and fit the polariton eigenenergies to the upper and lower polariton curves."
   ]
  },
  {
   "cell_type": "code",
   "execution_count": 84,
   "metadata": {},
   "outputs": [
    {
     "data": {
      "application/vnd.jupyter.widget-view+json": {
       "model_id": "c1657f221f5649d9922f11ed9bc2dbb5",
       "version_major": 2,
       "version_minor": 0
      },
      "text/plain": [
       "Canvas(toolbar=Toolbar(toolitems=[('Home', 'Reset original view', 'home', 'home'), ('Back', 'Back to previous …"
      ]
     },
     "metadata": {},
     "output_type": "display_data"
    }
   ],
   "source": [
    "fig4, ax = plt.subplots()\n",
    "\n",
    "theta = []\n",
    "LP = []\n",
    "UP = []\n",
    "\n",
    "for i in np.arange(len(set_results)):\n",
    "    theta.append(set_xy[i][0])\n",
    "    LP.append(set_results[i].params['l1_center'].value)\n",
    "    UP.append(set_results[i].params['l2_center'].value)\n",
    "    \n",
    "ax.scatter(theta, LP)\n",
    "ax.scatter(theta, UP)\n",
    "\n",
    "plt.show()"
   ]
  },
  {
   "cell_type": "code",
   "execution_count": 59,
   "metadata": {},
   "outputs": [],
   "source": [
    "plt.close('all')"
   ]
  },
  {
   "cell_type": "code",
   "execution_count": 85,
   "metadata": {},
   "outputs": [
    {
     "name": "stdout",
     "output_type": "stream",
     "text": [
      "`ftol` termination condition is satisfied.\n",
      "[2.18712475e+03 2.16220486e+03 6.01014365e+01 1.85918861e+00]\n"
     ]
    }
   ],
   "source": [
    "x0 = [2100, 2170, 110, 1.55]\n",
    "splitting_fit = pp.splitting_least_squares(x0, theta, LP, UP)\n",
    "\n",
    "print(splitting_fit.message)\n",
    "print(splitting_fit.x)"
   ]
  },
  {
   "cell_type": "code",
   "execution_count": 86,
   "metadata": {},
   "outputs": [
    {
     "data": {
      "application/vnd.jupyter.widget-view+json": {
       "model_id": "916e49b5f1db49de90c975fb745b61fd",
       "version_major": 2,
       "version_minor": 0
      },
      "text/plain": [
       "Canvas(toolbar=Toolbar(toolitems=[('Home', 'Reset original view', 'home', 'home'), ('Back', 'Back to previous …"
      ]
     },
     "metadata": {},
     "output_type": "display_data"
    }
   ],
   "source": [
    "theta_plot = np.linspace(-30, 30, 100)\n",
    "theta_rad = [np.pi/180*t for t in theta_plot]\n",
    "\n",
    "E0, Ev, V, n_eff = splitting_fit.x\n",
    "# Ev = 2171\n",
    "# E0 = 2159\n",
    "# n_eff = 1.5\n",
    "\n",
    "En = pmath.coupled_energies(theta_rad, E0, Ev, V, n_eff, branch=0)\n",
    "Ep = pmath.coupled_energies(theta_rad, E0, Ev, V, n_eff, branch=1)\n",
    "E_ph = pmath.cavity_mode_energy(theta_rad, E0, n_eff)\n",
    "fig10, ax = plt.subplots()\n",
    "\n",
    "ax.plot(theta_plot, En, 'r-')\n",
    "ax.plot(theta_plot, Ep, 'r-')\n",
    "ax.plot(theta_plot, np.full(len(theta_plot), Ev), color='dimgray', linestyle='dashed')\n",
    "ax.plot(theta_plot, E_ph, color='dimgray', linestyle='dashed')\n",
    "ax.scatter(theta, LP, color='darkblue', marker='o', s=20)\n",
    "ax.scatter(theta, UP, color='darkblue', marker='o', s=20)\n",
    "\n",
    "rabi_text = r'$\\Omega_R = %.2f$' % (V)\n",
    "ax.text(20, 2150, rabi_text, bbox=dict(boxstyle='round, pad=0.5', facecolor='white'))\n",
    "\n",
    "plt.show()"
   ]
  },
  {
   "cell_type": "code",
   "execution_count": null,
   "metadata": {},
   "outputs": [],
   "source": [
    "plt.close('all')"
   ]
  }
 ],
 "metadata": {
  "kernelspec": {
   "display_name": "Python 3",
   "language": "python",
   "name": "python3"
  },
  "language_info": {
   "codemirror_mode": {
    "name": "ipython",
    "version": 3
   },
   "file_extension": ".py",
   "mimetype": "text/x-python",
   "name": "python",
   "nbconvert_exporter": "python",
   "pygments_lexer": "ipython3",
   "version": "3.7.9"
  },
  "toc-autonumbering": false
 },
 "nbformat": 4,
 "nbformat_minor": 4
}
